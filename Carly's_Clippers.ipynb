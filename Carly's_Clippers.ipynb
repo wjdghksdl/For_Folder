{
 "cells": [
  {
   "cell_type": "code",
   "execution_count": 1,
   "id": "55fe0df0-bfeb-4474-b779-073f753eb763",
   "metadata": {
    "tags": []
   },
   "outputs": [],
   "source": [
    "hairstyles = [\"bouffant\", \"pixie\", \"dreadlocks\", \"crew\", \"bowl\", \"bob\", \"mohawk\", \"flattop\"]\n",
    "prices = [30, 25, 40, 20, 20, 35, 50, 35]\n",
    "last_week = [2, 3, 5, 8, 4, 4, 6, 2]\n",
    "total_price = 0"
   ]
  },
  {
   "cell_type": "code",
   "execution_count": 2,
   "id": "0b975ed4-a2a3-4326-a6fd-496a70a06f8a",
   "metadata": {
    "tags": []
   },
   "outputs": [
    {
     "name": "stdout",
     "output_type": "stream",
     "text": [
      "Average price is  31.875\n"
     ]
    }
   ],
   "source": [
    "for i in prices:\n",
    "    total_price += i\n",
    "average_price = total_price/len(prices)\n",
    "print(\"Average price is  \" + str(average_price))"
   ]
  },
  {
   "cell_type": "code",
   "execution_count": 3,
   "id": "f3fbcc1d-d86d-44b3-ad2f-fab8da215a81",
   "metadata": {
    "tags": []
   },
   "outputs": [
    {
     "data": {
      "text/plain": [
       "[25, 20, 35, 15, 15, 30, 45, 30]"
      ]
     },
     "execution_count": 3,
     "metadata": {},
     "output_type": "execute_result"
    }
   ],
   "source": [
    "new_prices = []\n",
    "for i in prices:\n",
    "    new_prices.append(i-5)\n",
    "new_prices"
   ]
  },
  {
   "cell_type": "code",
   "execution_count": 4,
   "id": "66dceea3-ec1c-4dfe-9f00-8b94cdd8ece4",
   "metadata": {
    "tags": []
   },
   "outputs": [
    {
     "name": "stdout",
     "output_type": "stream",
     "text": [
      "Average daily revenue is  155.0\n"
     ]
    }
   ],
   "source": [
    "total_revenue = 0\n",
    "\n",
    "for i in range(len(hairstyles)):\n",
    "    total_revenue += prices[i] * last_week[i]\n",
    "\n",
    "average_daily_revenue = total_revenue / 7\n",
    "print(\"Average daily revenue is \", average_daily_revenue)"
   ]
  },
  {
   "cell_type": "code",
   "execution_count": 5,
   "id": "6412e588-8709-4f9c-8dbe-7d2f050cf626",
   "metadata": {
    "tags": []
   },
   "outputs": [
    {
     "name": "stdout",
     "output_type": "stream",
     "text": [
      "['bouffant', 'pixie', 'crew', 'bowl']\n"
     ]
    }
   ],
   "source": [
    "cuts_under_30 = []\n",
    "for i in range(len(hairstyles)):\n",
    "    if new_prices[i] < 30:\n",
    "        cuts_under_30.append(hairstyles[i])\n",
    "print(cuts_under_30)"
   ]
  }
 ],
 "metadata": {
  "kernelspec": {
   "display_name": "Python 3 (ipykernel)",
   "language": "python",
   "name": "python3"
  },
  "language_info": {
   "codemirror_mode": {
    "name": "ipython",
    "version": 3
   },
   "file_extension": ".py",
   "mimetype": "text/x-python",
   "name": "python",
   "nbconvert_exporter": "python",
   "pygments_lexer": "ipython3",
   "version": "3.11.4"
  }
 },
 "nbformat": 4,
 "nbformat_minor": 5
}
