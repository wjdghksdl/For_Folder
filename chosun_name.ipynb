{
 "cells": [
  {
   "cell_type": "code",
   "execution_count": 5,
   "id": "9f4e004e-2e4b-40f2-a5fe-4e04ce507ca8",
   "metadata": {
    "tags": []
   },
   "outputs": [],
   "source": [
    "family_name = \"박\""
   ]
  },
  {
   "cell_type": "code",
   "execution_count": 6,
   "id": "6b9564a7-75ff-4226-bb7e-d32cb0f80bbc",
   "metadata": {
    "tags": []
   },
   "outputs": [],
   "source": [
    "month = ['쌍', '쇠', '복', '돌', '팽', '육', '쌍', '개', '칠', '갑', '삼', '방']\n",
    "day = ['봉', '구', '욕', '포', '똥', '삼', '식', '석', '놈', '님', '년', '돌', '단', '득', '방', '질', '장', '걸', '래', '룡', '동', '순', '자', '박', '창', '언', '것', '포', '만', '단', '국']"
   ]
  },
  {
   "cell_type": "code",
   "execution_count": 17,
   "id": "188a15c6-6471-45c9-970a-980a4ef2261e",
   "metadata": {
    "tags": []
   },
   "outputs": [],
   "source": [
    "def get_my_chosun_name(first_name, birth_month, birth_day):\n",
    "    full_name = first_name + month[birth_month - 1] + day[birth_day - 1]\n",
    "    return full_name"
   ]
  },
  {
   "cell_type": "code",
   "execution_count": 18,
   "id": "770c62ec-89da-4d81-b6d1-7e0c4e72aa76",
   "metadata": {
    "tags": []
   },
   "outputs": [
    {
     "data": {
      "text/plain": [
       "'박쌍언'"
      ]
     },
     "execution_count": 18,
     "metadata": {},
     "output_type": "execute_result"
    }
   ],
   "source": [
    "get_my_chosun_name(family_name, 1, 26)"
   ]
  }
 ],
 "metadata": {
  "kernelspec": {
   "display_name": "Python 3 (ipykernel)",
   "language": "python",
   "name": "python3"
  },
  "language_info": {
   "codemirror_mode": {
    "name": "ipython",
    "version": 3
   },
   "file_extension": ".py",
   "mimetype": "text/x-python",
   "name": "python",
   "nbconvert_exporter": "python",
   "pygments_lexer": "ipython3",
   "version": "3.11.4"
  }
 },
 "nbformat": 4,
 "nbformat_minor": 5
}
